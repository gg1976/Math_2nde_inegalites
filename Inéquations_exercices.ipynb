{
 "cells": [
  {
   "cell_type": "code",
   "execution_count": null,
   "id": "6f65a68d",
   "metadata": {},
   "outputs": [],
   "source": [
    "    if (diff=='facile') :\n",
    "        Label1.value=\"Type d'inéquation : $(x-a)(x-b) \\leq 0$\"\n",
    "        if(a>0) and (b>0):\n",
    "            inequation.value=\"(x-\" + str(a)+ \")(x-\" + str(b)+ \") < 0\"\n",
    "        elif (a>0) and (b==0):\n",
    "            inequation.value=\"(x-\" + str(a)+ \")x < 0\"\n",
    "        elif (a>0) and (b<0):\n",
    "            inequation.value=\"(x-\" + str(a)+ \")(x+\" + str(-b)+ \") < 0\"\n",
    "        elif (a==0) and (b>0):\n",
    "            inequation.value=\"x(x-\" + str(b)+ \") < 0\"\n",
    "        elif (a==0) and (b>0):\n",
    "            inequation.value=\"x*x < 0\"\n",
    "        elif (a==0) and (b>0):\n",
    "            inequation.value=\"x(x+\" + str(-b)+ \") < 0\"\n",
    "        elif(a<0) and (b>0):\n",
    "            inequation.value=\"(x+\" + str(-a)+ \")(x-\" + str(b)+ \") < 0\"\n",
    "        elif (a<0) and (b==0):\n",
    "            inequation.value=\"(x+\" + str(-a)+ \")x < 0\"\n",
    "        elif (a<0) and (b<0):\n",
    "            inequation.value=\"(x+\" + str(-a)+ \")(x+\" + str(-b)+ \") < 0\"\n",
    "        \n",
    "    if (diff=='moyen -') :\n",
    "        Label1.value=\"Type d'inéquation : $(cx-a)(dx-b) \\leq 0$\"\n",
    "        if(a>0) and (b>0):\n",
    "            inequation.value=\"(\"+str(c)+\"x-\" + str(a)+ \")(x-\" + str(b)+ \") < 0\"\n",
    "        elif (a>0) and (b==0):\n",
    "            inequation.value=\"(\"+str(c)+\"x-\" + str(a)+ \")x < 0\"\n",
    "        elif (a>0) and (b<0):\n",
    "            inequation.value=\"(\"+str(c)+\"x-\" + str(a)+ \")(x+\" + str(-b)+ \") < 0\"\n",
    "        elif (a==0) and (b>0):\n",
    "            inequation.value=\"\"+str(c)+\"x(x-\" + str(b)+ \") < 0\"\n",
    "        elif (a==0) and (b>0):\n",
    "            inequation.value=\"\"+str(c*d)+\"x*x < 0\"\n",
    "        elif (a==0) and (b>0):\n",
    "            inequation.value=str(c)+\"x(x+\" + str(-b)+ \") < 0\"\n",
    "        elif(a<0) and (b>0):\n",
    "            inequation.value=\"(\"+str(c)+\"x+\" + str(-a)+ \")(x-\" + str(b)+ \") < 0\"\n",
    "        elif (a<0) and (b==0):\n",
    "            inequation.value=\"(\"+str(c)+\"x+\" + str(-a)+ \")x < 0\"\n",
    "        elif (a<0) and (b<0):\n",
    "            inequation.value=\"(\"+str(c)+\"x+\" + str(-a)+ \")(x+\" + str(-b)+ \") < 0\"\n"
   ]
  }
 ],
 "metadata": {
  "kernelspec": {
   "display_name": "Python 3",
   "language": "python",
   "name": "python3"
  },
  "language_info": {
   "codemirror_mode": {
    "name": "ipython",
    "version": 3
   },
   "file_extension": ".py",
   "mimetype": "text/x-python",
   "name": "python",
   "nbconvert_exporter": "python",
   "pygments_lexer": "ipython3",
   "version": "3.8.8"
  }
 },
 "nbformat": 4,
 "nbformat_minor": 5
}
